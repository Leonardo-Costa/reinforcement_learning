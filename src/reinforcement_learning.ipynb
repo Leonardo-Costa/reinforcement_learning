{
  "nbformat": 4,
  "nbformat_minor": 0,
  "metadata": {
    "colab": {
      "provenance": []
    },
    "kernelspec": {
      "name": "python3",
      "display_name": "Python 3"
    },
    "language_info": {
      "name": "python"
    }
  },
  "cells": [
    {
      "cell_type": "markdown",
      "source": [
        "#Instalação de bibliotecas"
      ],
      "metadata": {
        "id": "FaLNq-E9jFFD"
      }
    },
    {
      "cell_type": "code",
      "source": [
        "!apt-get install python-opengl -y\n",
        "!apt install xvfb -y\n",
        "!pip install pyvirtualdisplay\n",
        "!pip install piglet"
      ],
      "metadata": {
        "id": "mLFIJFNruP5i",
        "colab": {
          "base_uri": "https://localhost:8080/"
        },
        "outputId": "3b616289-9266-4f16-b748-352c08487769"
      },
      "execution_count": 15,
      "outputs": [
        {
          "output_type": "stream",
          "name": "stdout",
          "text": [
            "Reading package lists... Done\n",
            "Building dependency tree... Done\n",
            "Reading state information... Done\n",
            "E: Unable to locate package python-opengl\n",
            "Reading package lists... Done\n",
            "Building dependency tree... Done\n",
            "Reading state information... Done\n",
            "xvfb is already the newest version (2:21.1.4-2ubuntu1.7~22.04.1).\n",
            "0 upgraded, 0 newly installed, 0 to remove and 18 not upgraded.\n",
            "Requirement already satisfied: pyvirtualdisplay in /usr/local/lib/python3.10/dist-packages (3.0)\n",
            "Requirement already satisfied: piglet in /usr/local/lib/python3.10/dist-packages (1.0.0)\n",
            "Requirement already satisfied: piglet-templates in /usr/local/lib/python3.10/dist-packages (from piglet) (1.3.0)\n",
            "Requirement already satisfied: pyparsing in /usr/local/lib/python3.10/dist-packages (from piglet-templates->piglet) (3.1.1)\n",
            "Requirement already satisfied: attrs in /usr/local/lib/python3.10/dist-packages (from piglet-templates->piglet) (23.1.0)\n",
            "Requirement already satisfied: astunparse in /usr/local/lib/python3.10/dist-packages (from piglet-templates->piglet) (1.6.3)\n",
            "Requirement already satisfied: markupsafe in /usr/local/lib/python3.10/dist-packages (from piglet-templates->piglet) (2.1.3)\n",
            "Requirement already satisfied: wheel<1.0,>=0.23.0 in /usr/local/lib/python3.10/dist-packages (from astunparse->piglet-templates->piglet) (0.41.2)\n",
            "Requirement already satisfied: six<2.0,>=1.6.1 in /usr/local/lib/python3.10/dist-packages (from astunparse->piglet-templates->piglet) (1.16.0)\n"
          ]
        }
      ]
    },
    {
      "cell_type": "code",
      "execution_count": 16,
      "metadata": {
        "id": "Xg52_HHutahb"
      },
      "outputs": [],
      "source": [
        "!pip install cmake 'gym[atari]' scipy --quiet"
      ]
    },
    {
      "cell_type": "markdown",
      "source": [
        "#Importação de bibliotecas"
      ],
      "metadata": {
        "id": "lKmBfvVujHtY"
      }
    },
    {
      "cell_type": "code",
      "source": [
        "import gym\n",
        "from IPython import display\n",
        "import matplotlib.pyplot as plt\n",
        "from IPython.display import clear_output\n",
        "from time import sleep\n",
        "from tqdm import tqdm\n",
        "import numpy as np\n",
        "import random\n",
        "from IPython.display import clear_output\n",
        "%matplotlib inline"
      ],
      "metadata": {
        "id": "8YgBrgj7tgrn"
      },
      "execution_count": 17,
      "outputs": []
    },
    {
      "cell_type": "markdown",
      "source": [
        "#instanciando ambiente da OpenAI\n"
      ],
      "metadata": {
        "id": "pgShcyoAZdIS"
      }
    },
    {
      "cell_type": "markdown",
      "source": [
        "Instanciando um ambiente utilizando a biblioteca gym da OpenAI. a bilbioteca gym disponibiliza ambientes pré-configurados para treinar algoritmos de aprendizado por reforço"
      ],
      "metadata": {
        "id": "6gECXznbjJzx"
      }
    },
    {
      "cell_type": "code",
      "source": [
        "env = gym.make('Taxi-v3').env"
      ],
      "metadata": {
        "id": "rRVGPPWfuW7p"
      },
      "execution_count": 18,
      "outputs": []
    },
    {
      "cell_type": "markdown",
      "source": [
        "o ambiente permite 6 ações possíveis: 'south', 'north', 'east', 'west', 'pickup', e 'dropoff'."
      ],
      "metadata": {
        "id": "dC-kRG7VjUP7"
      }
    },
    {
      "cell_type": "code",
      "source": [
        "print(\"Action Space {}\".format(env.action_space))\n",
        "print(\"State Space {}\".format(env.observation_space))"
      ],
      "metadata": {
        "colab": {
          "base_uri": "https://localhost:8080/"
        },
        "id": "_SrVoITzvxIn",
        "outputId": "2c81cf5a-bf20-43b5-96cd-5d3c56dc8d9b"
      },
      "execution_count": 19,
      "outputs": [
        {
          "output_type": "stream",
          "name": "stdout",
          "text": [
            "Action Space Discrete(6)\n",
            "State Space Discrete(500)\n"
          ]
        }
      ]
    },
    {
      "cell_type": "markdown",
      "source": [
        "#Execução do agente com uma política aleatória"
      ],
      "metadata": {
        "id": "uTz5MgGtZgl-"
      }
    },
    {
      "cell_type": "markdown",
      "source": [
        "resetando o ambiente, setando um estado inicial e criando um array para armazenar os frames"
      ],
      "metadata": {
        "id": "sOqhZIaXjn0h"
      }
    },
    {
      "cell_type": "code",
      "source": [
        "def runRandom():\n",
        "  env.reset()\n",
        "  env.s = 328\n",
        "  epochs = 0\n",
        "  penalties, reward = 0, 0\n",
        "  frames = []\n",
        "\n",
        "  done = False\n",
        "\n",
        "  while not done:\n",
        "      action = env.action_space.sample()\n",
        "      state, reward, done, info = env.step(action)\n",
        "\n",
        "      if reward == -10:\n",
        "          penalties += 1\n",
        "\n",
        "      frames.append({\n",
        "          'frame': env.render(mode='ansi'),\n",
        "          'state': state,\n",
        "          'action': action,\n",
        "          'reward': reward\n",
        "          }\n",
        "      )\n",
        "\n",
        "      epochs += 1\n",
        "  return epochs, penalties, frames"
      ],
      "metadata": {
        "id": "3t0ZxwXoxPAK"
      },
      "execution_count": 20,
      "outputs": []
    },
    {
      "cell_type": "code",
      "source": [
        "epochsRandom = []\n",
        "penaltiesRandom = []\n",
        "framesRandom = []"
      ],
      "metadata": {
        "id": "OKUlTER0kWgt"
      },
      "execution_count": 21,
      "outputs": []
    },
    {
      "cell_type": "code",
      "source": [
        "for _ in tqdm(range(100)):\n",
        "  epochs, penalties, frames = runRandom()\n",
        "  epochsRandom.append(epochs)\n",
        "  penaltiesRandom.append(penalties)\n",
        "  framesRandom.append(frames)"
      ],
      "metadata": {
        "colab": {
          "base_uri": "https://localhost:8080/"
        },
        "id": "Iyk9e674kTyc",
        "outputId": "19c8b1b2-74b2-4d02-841a-ac0a0ad7b3a9"
      },
      "execution_count": 22,
      "outputs": [
        {
          "output_type": "stream",
          "name": "stderr",
          "text": [
            "100%|██████████| 100/100 [00:38<00:00,  2.60it/s]\n"
          ]
        }
      ]
    },
    {
      "cell_type": "code",
      "source": [
        "def print_frames(frames):\n",
        "    for i, frame in enumerate(frames):\n",
        "        clear_output(wait=True)\n",
        "        print(frame['frame'])\n",
        "        print(f\"Timestep: {i + 1}\")\n",
        "        print(f\"State: {frame['state']}\")\n",
        "        print(f\"Action: {frame['action']}\")\n",
        "        print(f\"Reward: {frame['reward']}\")\n",
        "        sleep(.1)"
      ],
      "metadata": {
        "id": "tlnX2PsozJZL"
      },
      "execution_count": 23,
      "outputs": []
    },
    {
      "cell_type": "markdown",
      "source": [
        "#Implementando o algoritmo Q-learning"
      ],
      "metadata": {
        "id": "EVqTdKeeZvFu"
      }
    },
    {
      "cell_type": "markdown",
      "source": [
        "Executando o algoritmo Q-learning"
      ],
      "metadata": {
        "id": "iJUpQ_Lx0OV6"
      }
    },
    {
      "cell_type": "code",
      "source": [
        "q_table = np.zeros([env.observation_space.n, env.action_space.n])"
      ],
      "metadata": {
        "id": "spoM3qtW1B9R"
      },
      "execution_count": 24,
      "outputs": []
    },
    {
      "cell_type": "code",
      "source": [
        "%%time\n",
        "\"\"\"Training the agent\"\"\"\n",
        "\n",
        "alpha = 0.1\n",
        "gamma = 0.6\n",
        "epsilon = 0.1\n",
        "\n",
        "all_epochs = []\n",
        "all_penalties = []\n",
        "\n",
        "for i in range(1, 100001):\n",
        "    state = env.reset()\n",
        "\n",
        "    epochs, penalties, reward, = 0, 0, 0\n",
        "    done = False\n",
        "\n",
        "    while not done:\n",
        "        if random.uniform(0, 1) < epsilon:\n",
        "            action = env.action_space.sample()\n",
        "        else:\n",
        "            action = np.argmax(q_table[state])\n",
        "\n",
        "        next_state, reward, done, info = env.step(action)\n",
        "\n",
        "        old_value = q_table[state, action]\n",
        "        next_max = np.max(q_table[next_state])\n",
        "\n",
        "        new_value = (1 - alpha) * old_value + alpha * (reward + gamma * next_max)\n",
        "        q_table[state, action] = new_value\n",
        "\n",
        "        if reward == -10:\n",
        "            penalties += 1\n",
        "\n",
        "        state = next_state\n",
        "        epochs += 1\n",
        "\n",
        "    if i % 100 == 0:\n",
        "        clear_output(wait=True)\n",
        "        print(f\"Episode: {i}\")\n",
        "\n",
        "print(\"Training finished.\\n\")"
      ],
      "metadata": {
        "colab": {
          "base_uri": "https://localhost:8080/"
        },
        "id": "24VLR8UF1qhw",
        "outputId": "cbedacbf-8a26-4972-f67f-a9850f991a6e"
      },
      "execution_count": 25,
      "outputs": [
        {
          "output_type": "stream",
          "name": "stdout",
          "text": [
            "Episode: 100000\n",
            "Training finished.\n",
            "\n",
            "CPU times: user 1min 22s, sys: 5.99 s, total: 1min 28s\n",
            "Wall time: 1min 37s\n"
          ]
        }
      ]
    },
    {
      "cell_type": "code",
      "source": [
        "q_table[328]"
      ],
      "metadata": {
        "colab": {
          "base_uri": "https://localhost:8080/"
        },
        "id": "CFMcYb6E3ndb",
        "outputId": "41d0755f-b89b-454c-8059-56e8b1284264"
      },
      "execution_count": 26,
      "outputs": [
        {
          "output_type": "execute_result",
          "data": {
            "text/plain": [
              "array([ -2.40883216,  -2.27325184,  -2.41221126,  -2.35874332,\n",
              "       -10.59716512, -10.42627212])"
            ]
          },
          "metadata": {},
          "execution_count": 26
        }
      ]
    },
    {
      "cell_type": "markdown",
      "source": [
        "#Avaliando a performance do agente com a política alteatória e com a política e com a política épsilon-greedy após q-learning."
      ],
      "metadata": {
        "id": "BIAFdgZJZz-H"
      }
    },
    {
      "cell_type": "code",
      "source": [
        "\"\"\"Evaluate agent's performance after Q-learning\"\"\"\n",
        "\n",
        "total_epochs, total_penalties = 0, 0\n",
        "episodes = 100\n",
        "\n",
        "for _ in range(episodes):\n",
        "    state = env.reset()\n",
        "    epochs, penalties, reward = 0, 0, 0\n",
        "\n",
        "    done = False\n",
        "\n",
        "    while not done:\n",
        "        action = np.argmax(q_table[state])\n",
        "        state, reward, done, info = env.step(action)\n",
        "\n",
        "        if reward == -10:\n",
        "            penalties += 1\n",
        "\n",
        "        epochs += 1\n",
        "\n",
        "    total_penalties += penalties\n",
        "    total_epochs += epochs"
      ],
      "metadata": {
        "id": "jZoKkJ4A3x5f"
      },
      "execution_count": 27,
      "outputs": []
    },
    {
      "cell_type": "code",
      "source": [
        "print(f\"Após {episodes} episódeos:\")\n",
        "print(f\"Média de épocas por episódeo com Q-learning: {total_epochs / episodes}\")\n",
        "print(f\"Média de épocas por episódeo sem Q-learning: {sum(epochsRandom) / len(epochsRandom)}\")\n",
        "print(f'Razão: {round((sum(epochsRandom) / len(epochsRandom)) / (total_epochs / episodes),0 )} vezes mais rápido')"
      ],
      "metadata": {
        "colab": {
          "base_uri": "https://localhost:8080/"
        },
        "id": "RTtKWch5tRmZ",
        "outputId": "c92f9214-28d5-4db5-d93a-de32f62c7485"
      },
      "execution_count": 28,
      "outputs": [
        {
          "output_type": "stream",
          "name": "stdout",
          "text": [
            "Após 100 episódeos:\n",
            "Média de épocas por episódeo com Q-learning: 12.92\n",
            "Média de épocas por episódeo sem Q-learning: 2394.07\n",
            "Razão: 185.0 vezes mais rápido\n"
          ]
        }
      ]
    }
  ]
}